{
 "cells": [
  {
   "cell_type": "markdown",
   "metadata": {},
   "source": [
    "# Workshop #3"
   ]
  },
  {
   "cell_type": "markdown",
   "metadata": {},
   "source": [
    "## Conduct preliminary analysis using the inference statistics (such as logistic regression, panel analysis, etc…).  Explain below what you plan to do."
   ]
  },
  {
   "cell_type": "markdown",
   "metadata": {},
   "source": [
    "For my preliminary analysis, I am doing a t-test of difference of means."
   ]
  },
  {
   "cell_type": "markdown",
   "metadata": {},
   "source": [
    "## Save your code and output. Make sure to include the output you are explaining in the next question."
   ]
  },
  {
   "cell_type": "code",
   "execution_count": 3,
   "metadata": {
    "scrolled": false
   },
   "outputs": [
    {
     "name": "stdout",
     "output_type": "stream",
     "text": [
      "\n",
      "D:\\documents copy\\research\\Ongoing\\BRAC\\data\n",
      "\n",
      "\n",
      "\n",
      "Summary statistics: Mean, SD, Min, p50, Max\n",
      "Group variable: superfund \n",
      "\n",
      "superfund |  whtpe~70  whtpe~80  whtpe~90  whtpe~00  whtpe~10\n",
      "----------+--------------------------------------------------\n",
      "        0 |  74.91086  66.85626   62.3181   56.1807  52.69695\n",
      "          |  32.83601  31.64669  30.70039  29.80483  28.22566\n",
      "          |         0         0         0         0         0\n",
      "          |   91.2994   79.7536   70.8389   59.3513    55.671\n",
      "          |       100   99.9641       100       100   98.3871\n",
      "----------+--------------------------------------------------\n",
      "        1 |  79.10958  73.71392  71.18319  67.03686  64.38659\n",
      "          |   34.2396  32.60753  31.17331  29.92733  28.03513\n",
      "          |         0         0         0         0         0\n",
      "          |   95.0755   87.3432   82.1056   75.2026   71.6155\n",
      "          |       100       100       100   98.3137   97.0912\n",
      "----------+--------------------------------------------------\n",
      "    Total |  75.85195  68.39332   64.3051  58.61398  55.31704\n",
      "          |  33.16877  31.96139   30.9986  30.14608  28.57588\n",
      "          |         0         0         0         0         0\n",
      "          |    92.488  81.22755  73.61305   63.8865   61.2001\n",
      "          |       100       100       100       100   98.3871\n",
      "-------------------------------------------------------------\n",
      "\n",
      "\n",
      "Two-sample t test with equal variances\n",
      "------------------------------------------------------------------------------\n",
      "   Group |     Obs        Mean    Std. err.   Std. dev.   [95% conf. interval]\n",
      "---------+--------------------------------------------------------------------\n",
      "       0 |     405    52.69695    1.402544    28.22566    49.93976    55.45415\n",
      "       1 |     117    64.38659    2.591849    28.03513     59.2531    69.52007\n",
      "---------+--------------------------------------------------------------------\n",
      "Combined |     522    55.31704    1.250732    28.57588    52.85994    57.77414\n",
      "---------+--------------------------------------------------------------------\n",
      "    diff |           -11.68963    2.958055               -17.50084   -5.878428\n",
      "------------------------------------------------------------------------------\n",
      "    diff = mean(0) - mean(1)                                      t =  -3.9518\n",
      "H0: diff = 0                                     Degrees of freedom =      520\n",
      "\n",
      "    Ha: diff < 0                 Ha: diff != 0                 Ha: diff > 0\n",
      " Pr(T < t) = 0.0000         Pr(|T| > |t|) = 0.0001          Pr(T > t) = 1.0000\n",
      "\n",
      "\n",
      "Two-sample t test with equal variances\n",
      "------------------------------------------------------------------------------\n",
      "   Group |     Obs        Mean    Std. err.   Std. dev.   [95% conf. interval]\n",
      "---------+--------------------------------------------------------------------\n",
      "       0 |     405     56.1807    1.481014    29.80483    53.26924    59.09216\n",
      "       1 |     117    67.03686    2.766783    29.92733    61.55689    72.51682\n",
      "---------+--------------------------------------------------------------------\n",
      "Combined |     522    58.61398    1.319458    30.14608    56.02186    61.20609\n",
      "---------+--------------------------------------------------------------------\n",
      "    diff |           -10.85616    3.131123               -17.00736   -4.704952\n",
      "------------------------------------------------------------------------------\n",
      "    diff = mean(0) - mean(1)                                      t =  -3.4672\n",
      "H0: diff = 0                                     Degrees of freedom =      520\n",
      "\n",
      "    Ha: diff < 0                 Ha: diff != 0                 Ha: diff > 0\n",
      " Pr(T < t) = 0.0003         Pr(|T| > |t|) = 0.0006          Pr(T > t) = 0.9997\n",
      "\n",
      "\n",
      "Two-sample t test with equal variances\n",
      "------------------------------------------------------------------------------\n",
      "   Group |     Obs        Mean    Std. err.   Std. dev.   [95% conf. interval]\n",
      "---------+--------------------------------------------------------------------\n",
      "       0 |     405     62.3181    1.525515    30.70039    59.31916    65.31704\n",
      "       1 |     117    71.18319    2.881974    31.17331    65.47508     76.8913\n",
      "---------+--------------------------------------------------------------------\n",
      "Combined |     522     64.3051    1.356772     30.9986    61.63969    66.97052\n",
      "---------+--------------------------------------------------------------------\n",
      "    diff |           -8.865088    3.233385               -15.21719   -2.512985\n",
      "------------------------------------------------------------------------------\n",
      "    diff = mean(0) - mean(1)                                      t =  -2.7417\n",
      "H0: diff = 0                                     Degrees of freedom =      520\n",
      "\n",
      "    Ha: diff < 0                 Ha: diff != 0                 Ha: diff > 0\n",
      " Pr(T < t) = 0.0032         Pr(|T| > |t|) = 0.0063          Pr(T > t) = 0.9968\n",
      "\n",
      "\n",
      "Two-sample t test with equal variances\n",
      "------------------------------------------------------------------------------\n",
      "   Group |     Obs        Mean    Std. err.   Std. dev.   [95% conf. interval]\n",
      "---------+--------------------------------------------------------------------\n",
      "       0 |     405    66.85626    1.572537    31.64669    63.76489    69.94764\n",
      "       1 |     117    73.71392    3.014568    32.60753    67.74319    79.68465\n",
      "---------+--------------------------------------------------------------------\n",
      "Combined |     522    68.39332    1.398912    31.96139    65.64512    71.14153\n",
      "---------+--------------------------------------------------------------------\n",
      "    diff |           -6.857655    3.344328               -13.42771   -.2876004\n",
      "------------------------------------------------------------------------------\n",
      "    diff = mean(0) - mean(1)                                      t =  -2.0505\n",
      "H0: diff = 0                                     Degrees of freedom =      520\n",
      "\n",
      "    Ha: diff < 0                 Ha: diff != 0                 Ha: diff > 0\n",
      " Pr(T < t) = 0.0204         Pr(|T| > |t|) = 0.0408          Pr(T > t) = 0.9796\n",
      "\n",
      "\n",
      "Two-sample t test with equal variances\n",
      "------------------------------------------------------------------------------\n",
      "   Group |     Obs        Mean    Std. err.   Std. dev.   [95% conf. interval]\n",
      "---------+--------------------------------------------------------------------\n",
      "       0 |     405    74.91086    1.631635    32.83601    71.70331    78.11841\n",
      "       1 |     117    79.10958    3.165452     34.2396       72.84    85.37915\n",
      "---------+--------------------------------------------------------------------\n",
      "Combined |     522    75.85195    1.451758    33.16877    72.99993    78.70397\n",
      "---------+--------------------------------------------------------------------\n",
      "    diff |           -4.198716      3.4798               -11.03491    2.637478\n",
      "------------------------------------------------------------------------------\n",
      "    diff = mean(0) - mean(1)                                      t =  -1.2066\n",
      "H0: diff = 0                                     Degrees of freedom =      520\n",
      "\n",
      "    Ha: diff < 0                 Ha: diff != 0                 Ha: diff > 0\n",
      " Pr(T < t) = 0.1141         Pr(|T| > |t|) = 0.2281          Pr(T > t) = 0.8859\n"
     ]
    }
   ],
   "source": [
    "cd \"D:\\documents copy\\research\\Ongoing\\BRAC\\data\\\"\n",
    "use \"brac_ncdb 2 3 22.dta\", clear\n",
    "\n",
    "*descriptive stat\n",
    "tabstat whtper_70 whtper_80 whtper_90 whtper_00 whtper_10, by(superfund) stat(mean sd min median max)\n",
    "\n",
    "*t-test of difference of means\n",
    "*year 2010\n",
    "ttest whtper_10, by(superfund)\n",
    "*year 2000\n",
    "ttest whtper_00, by(superfund)\n",
    "*year 1990\n",
    "ttest whtper_90, by(superfund)\n",
    "*year 1980\n",
    "ttest whtper_80, by(superfund)\n",
    "*year 1970\n",
    "ttest whtper_70, by(superfund)"
   ]
  },
  {
   "cell_type": "markdown",
   "metadata": {},
   "source": [
    "## Write 5-10 sentences explaining your findings."
   ]
  },
  {
   "cell_type": "markdown",
   "metadata": {},
   "source": [
    "To evaluate preliminary findings of the research question, I used a simple difference of means t-test. The difference of means t-test compares the means between the two categories (here, non-NPL/superfund BRAC site versus NPL/superfund BRAC site). If there is an environmental cleanup disparity and results show support for the H1, we reject the null hypothesis.\n",
    "\n",
    "The t-tests reveal tracts in the 2-mile buffer of NPL/superfund BRAC site have statistically significant higher percent of white residents as compared to tracts in the 2-mile buffer of non-NPL/superfund BRAC site. These results are consistent for the years: 1980, 1990, 2000, and 2010. There is no statistically significant difference for the year 1970. These early findings indicate support for the environmental clean-up disparity hypothesis where BRAC sites located in neighborhoods with more non-white residents do not have equal access to federal environmental remediation programs.\n",
    "\tIn the future, I will conduct follow up more advanced analysis. I plan to use event history analysis to evaluate the effect of neighborhood demographics from 1970-2010 on BRAC sites being listed on NPL/superfund.\n"
   ]
  },
  {
   "cell_type": "code",
   "execution_count": null,
   "metadata": {},
   "outputs": [],
   "source": []
  }
 ],
 "metadata": {
  "kernelspec": {
   "display_name": "Stata",
   "language": "stata",
   "name": "stata"
  },
  "language_info": {
   "codemirror_mode": "stata",
   "file_extension": ".do",
   "mimetype": "text/x-stata",
   "name": "stata",
   "version": "15.1"
  }
 },
 "nbformat": 4,
 "nbformat_minor": 4
}
