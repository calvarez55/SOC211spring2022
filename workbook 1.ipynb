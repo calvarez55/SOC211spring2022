{
 "cells": [
  {
   "cell_type": "markdown",
   "metadata": {},
   "source": [
    "# Workbook #1\n",
    "Welcome to SOC 211. This workbook will be an outline for week 1's class. First, we will review the syllabus. Second, we will do introductions. Then, we will cover important commands and features of Stata. We will close by discussing Du Bois and his ground breaking data visualizations."
   ]
  },
  {
   "cell_type": "markdown",
   "metadata": {},
   "source": [
    "### Syllabus SOC 211\n",
    "The syllabus is avaliable on the catcourses."
   ]
  },
  {
   "cell_type": "markdown",
   "metadata": {},
   "source": [
    "#### Introductions\n",
    "We will go in order of birthdays!\n",
    "* Name\n",
    "* Background (like where you grew up, what brought you to study sociology)\n",
    "* Areas of interest\n",
    "* One non-academic thing you did over winter break\n"
   ]
  },
  {
   "cell_type": "markdown",
   "metadata": {},
   "source": [
    " <img src=\"http://cdn.onlinewebfonts.com/svg/img_454217.png\" width=100 height=100 />\n",
    "\n",
    "### Organization tips\n",
    "It is <u>so</u> important to keep your quantitative work organized. These are some tips that have helped me stay organized."
   ]
  },
  {
   "cell_type": "markdown",
   "metadata": {},
   "source": [
    "* Make class/project/homework specific folders. Use basic universal commands to redirect your work to that specific folder.\n",
    "* Label files by date \"homework1 1 31 22\"\n",
    "* I highly recommend using code when possible. Codes are a written record of what you did. I almost always have to go back and see what I did or re-run analyses and codes save me!\n",
    "* Write notes in your code file."
   ]
  },
  {
   "cell_type": "markdown",
   "metadata": {},
   "source": [
    "<img src=\"http://cdn.onlinewebfonts.com/svg/img_275111.png\" width=100 height=100 /> <font color='blue'>DISCUSSION QUESTION: What is your current organization strategy? How does it work to steamline your workflow? What difficulties do you face in your current organization strategy? </font>"
   ]
  },
  {
   "cell_type": "markdown",
   "metadata": {},
   "source": [
    " <img src=\"https://www.stata.com/includes/images/stata-fb.jpg\" width=200 height=200 /> "
   ]
  },
  {
   "cell_type": "markdown",
   "metadata": {},
   "source": [
    "<div class=\"alert alert-block alert-warning\">Stata is a powerful program and has a lot features to it. If you are new Stata, please refer for \n",
    "- Longest, K. C. (2020). Using stata® for quantitative analysis - third edition. SAGE Publications, Inc. https://www.doi.org/10.4135/9781544318547 (it is avaliable as an e-book at the library.) </div>"
   ]
  },
  {
   "cell_type": "markdown",
   "metadata": {},
   "source": [
    "### Types of Stata files\n",
    "\n",
    "Successful projects rely on these files...\n",
    "- <b>.do files</b> - these files store commands and comments.\n",
    "- <b>.dta files</b> - these files store data.\n",
    "- <b>.smcl files</b> - these files results or the output. I usually like to conver these into a pdf (I'll show you later)"
   ]
  },
  {
   "cell_type": "markdown",
   "metadata": {},
   "source": [
    "* Where are you going to access Stata this term? Can you open stata right now?"
   ]
  },
  {
   "cell_type": "code",
   "execution_count": 1,
   "metadata": {},
   "outputs": [
    {
     "name": "stdout",
     "output_type": "stream",
     "text": [
      "(file C:\\Users\\acade\\Documents\\teaching\\SOC 211 spring\n",
      "    2022\\jupyter_nb\\workbook 1\\week1 inclass practice.smcl not found)\n",
      "--------------------------------------------------------------------------------\n",
      "      name:  <unnamed>\n",
      "       log:  C:\\Users\\acade\\Documents\\teaching\\SOC 211 spring 2022\\jupyter_nb\\wo\n",
      "> rkbook 1\\week1 inclass practice.smcl\n",
      "  log type:  smcl\n",
      " opened on:  20 Jan 2022, 08:17:37\n"
     ]
    }
   ],
   "source": [
    "log using \"week1 inclass practice.smcl\", replace"
   ]
  },
  {
   "cell_type": "code",
   "execution_count": 2,
   "metadata": {},
   "outputs": [],
   "source": [
    "*type edit and dataview file will open\n",
    "edit"
   ]
  },
  {
   "cell_type": "markdown",
   "metadata": {},
   "source": [
    " <img src=\"https://cdn1.iconfinder.com/data/icons/development-2-webby/60/52_-Script-_development_coding_programming_code-512.png\" width=200 height=200 /> \n",
    "\n",
    "### Basic universal commands\n",
    "\n",
    "The following commands are universal in many coding languages including Stata, Python, R, etc... More importantly, these commands help us stay organized within the memory space of the computer.\n",
    "\n",
    "The first command is <b>pwd</b> and stands for \"print working directory\". It tells you where in your computer you are working on."
   ]
  },
  {
   "cell_type": "code",
   "execution_count": 1,
   "metadata": {},
   "outputs": [
    {
     "name": "stdout",
     "output_type": "stream",
     "text": [
      "C:\\Users\\acade\\Documents\\teaching\\SOC 211 spring 2022\\jupyter_nb\\workbook 1\n"
     ]
    }
   ],
   "source": [
    "pwd"
   ]
  },
  {
   "cell_type": "markdown",
   "metadata": {},
   "source": [
    "Next important one is <b>cd</b> which means \"change directory.\" You can change your current working directory with cd."
   ]
  },
  {
   "cell_type": "code",
   "execution_count": 2,
   "metadata": {},
   "outputs": [
    {
     "name": "stdout",
     "output_type": "stream",
     "text": [
      "C:\\Users\\acade\\Desktop\n"
     ]
    }
   ],
   "source": [
    "cd \"C:\\Users\\acade\\Desktop\""
   ]
  },
  {
   "cell_type": "markdown",
   "metadata": {},
   "source": [
    "### Essential Stata commands\n",
    "\n",
    "The following commands are essential commands for Stata."
   ]
  },
  {
   "cell_type": "markdown",
   "metadata": {},
   "source": [
    "OPENING---This commands opens .dta files."
   ]
  },
  {
   "cell_type": "code",
   "execution_count": 3,
   "metadata": {},
   "outputs": [],
   "source": [
    "use \"C:\\Users\\acade\\Dropbox (Personal)\\state racism index and EJ\\1 REHD - submitted\\RR\\data and code\\index\\compdata 12 13 21.dta\", clear"
   ]
  },
  {
   "cell_type": "markdown",
   "metadata": {},
   "source": [
    "SAVING---This commands saves .dta files."
   ]
  },
  {
   "cell_type": "code",
   "execution_count": 4,
   "metadata": {},
   "outputs": [
    {
     "name": "stdout",
     "output_type": "stream",
     "text": [
      "(file C:\\Users\\acade\\Documents\\teaching\\SOC 211 spring\n",
      "    2022\\jupyter_nb\\workbook 1\\blah 1 20 22.dta not found)\n",
      "file C:\\Users\\acade\\Documents\\teaching\\SOC 211 spring 2022\\jupyter_nb\\workbook\n",
      "    1\\blah 1 20 22.dta saved\n"
     ]
    }
   ],
   "source": [
    "save \"C:\\Users\\acade\\Documents\\teaching\\SOC 211 spring 2022\\jupyter_nb\\workbook 1\\blah 1 20 22.dta\", replace"
   ]
  },
  {
   "cell_type": "markdown",
   "metadata": {},
   "source": [
    "COMMENTING --- Use asterisk * of double backslash // to write single-line comments. Use /* */ to write multi-line comments."
   ]
  },
  {
   "cell_type": "code",
   "execution_count": 5,
   "metadata": {},
   "outputs": [],
   "source": [
    "*Use the asterisk sign * or // to write single-line commands.\n",
    "/* Use asterisk with a backslash and asterisk to \n",
    "multi-line comments */ "
   ]
  },
  {
   "cell_type": "markdown",
   "metadata": {},
   "source": [
    "HELP --- type \"help\" in front of the command for more information about the command"
   ]
  },
  {
   "cell_type": "code",
   "execution_count": 7,
   "metadata": {},
   "outputs": [],
   "source": [
    "help summ"
   ]
  },
  {
   "cell_type": "markdown",
   "metadata": {},
   "source": [
    "<img src=\"https://www.pngfind.com/pngs/m/145-1453696_problem-statement-icon-png-statement-of-the-problem.png\" width=200 height=200 /> "
   ]
  },
  {
   "cell_type": "markdown",
   "metadata": {},
   "source": [
    "<font color=blue>Complete the following questions.\n",
    "* Q1) Print your current working directory.\n",
    "* Q2) Make a SOC 211 folder. Within the SOC 211 folder make a \"Week 1\" folder. Change your working directory to the \"Week 1\" folder.\n",
    "* Q3) Use the following command to open a .dta file from a URL in Stata: </font>"
   ]
  },
  {
   "cell_type": "code",
   "execution_count": 1,
   "metadata": {},
   "outputs": [
    {
     "name": "stdout",
     "output_type": "stream",
     "text": [
      "(1980 Census data by state)\n"
     ]
    }
   ],
   "source": [
    "use \"https://www.stata-press.com/data/r17/census12.dta\", clear"
   ]
  },
  {
   "cell_type": "markdown",
   "metadata": {},
   "source": [
    "<font color=blue>Once the file is open, save it in the \"Week 1\" folder\n",
    "* Q4) What does the \"describe\" command do in Stata?</font>\n",
    "\n",
    "Can we have some volunteers to share their work with the class?"
   ]
  },
  {
   "cell_type": "markdown",
   "metadata": {},
   "source": [
    "<img src=\"https://i.pinimg.com/originals/39/68/c8/3968c8455546fb1a170fe432fcd09020.jpg\" height=300 width=300>\n",
    "This week's reading assignment was to read the introduction of Battle-Baptiste, Whitney, and Britt Russert, eds. W.E.B Du Bois's Data Portraits: Visualizing Black America. Chronicle Books, 2018. The book is available as e-book at the library: <a href=\"https://ebookcentral.proquest.com/lib/ucm/detail.action?docID=5515147\">link to e-book</a>"
   ]
  },
  {
   "cell_type": "markdown",
   "metadata": {},
   "source": [
    "<a href=\"https://youtu.be/gr9l7GX9Qsk\">Short video of Dr. Whitney Battle-Baptiste giving an overview of W. E. B. Du Bois's Data Portraits: Visualizing Black America</a>"
   ]
  },
  {
   "cell_type": "markdown",
   "metadata": {},
   "source": [
    "<img src=\"https://static.hwpi.harvard.edu/files/styles/os_files_xlarge/public/hutchins/files/hutchins-bg-dubois.jpg\">"
   ]
  },
  {
   "cell_type": "markdown",
   "metadata": {},
   "source": [
    "### W.E.B. Du Bois\n",
    "\n",
    "* Sociologist studied at Harvard and University of Berlin.\n",
    "* He faced anti-Black discrimination and was excluded from mainstream sociology. \n",
    "* During his career, he wrote about systematic racism and its effects on society and Black communities. During the time most sociologists and social scientists were using science to justify racism. Du Bois argued against these racist assumptions and show the importance of history to understand social inequalities.\n",
    "* Du Bois conducted one of the first urban ethnographies and quantitative methods study. He uses sociological theory and methods to understand the lives of Black residents in Philadelphia. \n",
    "* American sociology excluded Du Bois' scholarship. Due to efforts of many activists and scholars, Du Bois is being more recognized as a important sociologist.\n",
    "* Du Bois researched and theorized race and racism in our society. He used sociological methods such as statistics and ethnography to understand the experiences of Black people in society. \n",
    "* At the time, many sociologists were reducing race to biology to support white supremacy.\n",
    "\n",
    "Recommended reading: Morris, Aldon D. 2015. The Scholar Denied: W. E. B. Du Bois and the Birth of Modern Sociology. Oakland, CA: University of California Press. (this book is avaliable as an e-book at the library)"
   ]
  },
  {
   "cell_type": "markdown",
   "metadata": {},
   "source": [
    "<img src=\"http://cdn.onlinewebfonts.com/svg/img_275111.png\" width=100 height=100 />\n",
    "\n",
    "<font color='blue'>DISCUSSION QUESTION: \n",
    "\n",
    "* What was the Paris Exposition? What did W.E.B. Du Bois do at the Paris Exposition? \n",
    "* What were some of the numbers and topics Du Bois was presenting in the plates?\n",
    "* What were some of design patterns in deploy?\n",
    "* Which plates stood out to you and why?\n",
    "* What can we take away, specifically to quantiative methods, from Du Bois and his work?\n",
    "</font>"
   ]
  },
  {
   "cell_type": "markdown",
   "metadata": {},
   "source": [
    "Paris Exposition was a festival/gallery event to showcast important artifacts of 20th century. Du Bois was invite by his Fisk University colleague Calloway. Du Bois prepared a gallery of data visualizations, photographs, and artwork demonstrating progress of Black Americans post-civil war. Most of the work comes from his The Georgia Negro: A Social Study. In the Battle-Baptiste and Rusert book, they also show data visuals from additional work from Du Bois. \n",
    "\n",
    "In the plates, you can see Du Bois is demonstrating temporal trends of the Black population from wealth, educational attainment, and occupation. Du Bois demonstrates gender differences. He even shows geographic patterns. All the displays demonstrate topics of interest to sociology.\n",
    "\n",
    "Du Bois is creative in creating the figures. He uses color, spirals, and maps. An interesting pattern Du Bois does is spiral or curves bars when they are too high. A lot of his figures are comparing across time or across gender to show difference. Showing difference is central to quantitative methods. In sociology, we argue those difference stem from systems or structures.\n",
    "\n",
    "I want to start this class with Du Bois for many reasons. I want us to have a role model and Du Bois is a brilliant scholar uses statistics to eradicate racial inequalities. I want us to feel inspired by the beauty and realness of Du Bois' work. "
   ]
  }
 ],
 "metadata": {
  "kernelspec": {
   "display_name": "Stata",
   "language": "stata",
   "name": "stata"
  },
  "language_info": {
   "codemirror_mode": "stata",
   "file_extension": ".do",
   "mimetype": "text/x-stata",
   "name": "stata",
   "version": "15.1"
  }
 },
 "nbformat": 4,
 "nbformat_minor": 4
}
